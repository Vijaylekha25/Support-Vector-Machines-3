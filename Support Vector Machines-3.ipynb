{
 "cells": [
  {
   "cell_type": "markdown",
   "id": "2b984fda-24c8-4405-a056-7668e82eeec4",
   "metadata": {},
   "source": [
    "Q1. In order to predict house price based on several characteristics, such as location, square footage,\n",
    "number of bedrooms, etc., you are developing an SVM regression model. Which regression metric in this\n",
    "situation would be the best to employ?"
   ]
  },
  {
   "cell_type": "markdown",
   "id": "f57193a5-3c3f-49f7-a380-938e06d0088c",
   "metadata": {},
   "source": [
    "Answer-In order to predict house prices based on several characteristics, such as location, square footage, number of bedrooms, etc., the best regression metric to employ would likely be Mean Squared Error (MSE). MSE measures the average squared difference between the predicted values and the actual values. It provides a good indication of how close the predicted house prices are to the actual prices across the dataset."
   ]
  },
  {
   "cell_type": "markdown",
   "id": "61777cc5-c6a2-47e1-8fbf-332dd4584886",
   "metadata": {},
   "source": [
    "Q2. You have built an SVM regression model and are trying to decide between using MSE or R-squared as\n",
    "your evaluation metric. Which metric would be more appropriate if your goal is to predict the actual price\n",
    "of a house as accurately as possible?"
   ]
  },
  {
   "cell_type": "markdown",
   "id": "612befc1-fd3d-4bd8-b835-53cc1afb6937",
   "metadata": {},
   "source": [
    "Answer- If the goal is to predict the actual price of a house as accurately as possible, Mean Squared Error (MSE) would be more appropriate as the evaluation metric. MSE penalizes large errors more heavily than smaller errors, providing a comprehensive measure of the model's accuracy in predicting house prices."
   ]
  },
  {
   "cell_type": "markdown",
   "id": "d51d3ea4-dbcf-4860-ad02-d671acf80a94",
   "metadata": {},
   "source": [
    "Q3. You have a dataset with a significant number of outliers and are trying to select an appropriate\n",
    "regression metric to use with your SVM model. Which metric would be the most appropriate in this\n",
    "scenario?"
   ]
  },
  {
   "cell_type": "markdown",
   "id": "7b0e2f08-8db3-49a4-93d4-a80393d8548d",
   "metadata": {},
   "source": [
    "Answer-In a dataset with a significant number of outliers, Mean Absolute Error (MAE) would be the most appropriate regression metric to use with an SVM model. MAE is less sensitive to outliers compared to MSE because it calculates the average absolute difference between the predicted values and the actual values. This makes it more robust in scenarios where outliers can significantly affect the model's performance."
   ]
  },
  {
   "cell_type": "markdown",
   "id": "0442574e-96f3-4dff-b2f1-17ffc6482e2b",
   "metadata": {},
   "source": [
    "Q4. You have built an SVM regression model using a polynomial kernel and are trying to select the best\n",
    "metric to evaluate its performance. You have calculated both MSE and RMSE and found that both values\n",
    "are very close. Which metric should you choose to use in this case?"
   ]
  },
  {
   "cell_type": "markdown",
   "id": "ebd10b1e-fbf9-422c-b845-0a4e1c3c974b",
   "metadata": {},
   "source": [
    "Answer- If both Mean Squared Error (MSE) and Root Mean Squared Error (RMSE) values are very close, it is generally preferable to choose RMSE as the evaluation metric. RMSE has the advantage of being in the same unit as the target variable (in this case, house prices), making it easier to interpret compared to MSE, which is in squared units. Additionally, RMSE is more sensitive to large errors due to the square root operation, which can be beneficial for identifying and addressing significant prediction errors."
   ]
  },
  {
   "cell_type": "markdown",
   "id": "14003f70-d28d-4795-983e-123f8c8cf9b8",
   "metadata": {},
   "source": [
    "Q5. You are comparing the performance of different SVM regression models using different kernels (linear,\n",
    "polynomial, and RBF) and are trying to select the best evaluation metric. Which metric would be most\n",
    "appropriate if your goal is to measure how well the model explains the variance in the target variable?"
   ]
  },
  {
   "cell_type": "code",
   "execution_count": null,
   "id": "96b81547-017e-4fed-ad41-5a331bdf2cbf",
   "metadata": {},
   "outputs": [],
   "source": []
  }
 ],
 "metadata": {
  "kernelspec": {
   "display_name": "Python 3 (ipykernel)",
   "language": "python",
   "name": "python3"
  },
  "language_info": {
   "codemirror_mode": {
    "name": "ipython",
    "version": 3
   },
   "file_extension": ".py",
   "mimetype": "text/x-python",
   "name": "python",
   "nbconvert_exporter": "python",
   "pygments_lexer": "ipython3",
   "version": "3.12.2"
  }
 },
 "nbformat": 4,
 "nbformat_minor": 5
}
